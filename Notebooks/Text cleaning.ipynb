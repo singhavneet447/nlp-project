{
 "cells": [
  {
   "cell_type": "code",
   "execution_count": 1,
   "metadata": {},
   "outputs": [],
   "source": [
    "import pandas as pd\n",
    "import numpy as np\n",
    "%matplotlib inline\n",
    "import matplotlib.pyplot as plt\n"
   ]
  },
  {
   "cell_type": "code",
   "execution_count": 2,
   "metadata": {},
   "outputs": [],
   "source": [
    "import spacy\n",
    "nlp = spacy.load('en_core_web_lg')\n",
    "##################################    \n",
    "   \n",
    "\n",
    "def set_custom_boundaries(doc):\n",
    "    for token in doc[:-1]:\n",
    "        if  token.text == '\\n' or token.text.startswith('\\n'):\n",
    "            doc[token.i+1].is_sent_start = True\n",
    "    return doc\n",
    "\n",
    "nlp.add_pipe(set_custom_boundaries, before='parser')"
   ]
  },
  {
   "cell_type": "code",
   "execution_count": 3,
   "metadata": {},
   "outputs": [
    {
     "name": "stdout",
     "output_type": "stream",
     "text": [
      "285\n"
     ]
    },
    {
     "data": {
      "text/html": [
       "<div>\n",
       "<style scoped>\n",
       "    .dataframe tbody tr th:only-of-type {\n",
       "        vertical-align: middle;\n",
       "    }\n",
       "\n",
       "    .dataframe tbody tr th {\n",
       "        vertical-align: top;\n",
       "    }\n",
       "\n",
       "    .dataframe thead th {\n",
       "        text-align: right;\n",
       "    }\n",
       "</style>\n",
       "<table border=\"1\" class=\"dataframe\">\n",
       "  <thead>\n",
       "    <tr style=\"text-align: right;\">\n",
       "      <th></th>\n",
       "      <th>number</th>\n",
       "      <th>short_description</th>\n",
       "      <th>Class</th>\n",
       "      <th>description</th>\n",
       "    </tr>\n",
       "  </thead>\n",
       "  <tbody>\n",
       "    <tr>\n",
       "      <th>0</th>\n",
       "      <td>INC0809260</td>\n",
       "      <td>Y2684992</td>\n",
       "      <td>P</td>\n",
       "      <td>From: Rebecca Connolly &lt;Rebecca.Connolly@nbrow...</td>\n",
       "    </tr>\n",
       "    <tr>\n",
       "      <th>1</th>\n",
       "      <td>INC0808684</td>\n",
       "      <td>Delivery offer not working</td>\n",
       "      <td>P</td>\n",
       "      <td>NaN</td>\n",
       "    </tr>\n",
       "    <tr>\n",
       "      <th>2</th>\n",
       "      <td>INC0808628</td>\n",
       "      <td>Delivery pass needs removing on Staff Accounts...</td>\n",
       "      <td>R</td>\n",
       "      <td>Please can you remove the delivery pass be rem...</td>\n",
       "    </tr>\n",
       "    <tr>\n",
       "      <th>3</th>\n",
       "      <td>INC0807303</td>\n",
       "      <td>G7121564</td>\n",
       "      <td>O</td>\n",
       "      <td>please set (ACUSTRSS ) to 1 so account holder ...</td>\n",
       "    </tr>\n",
       "    <tr>\n",
       "      <th>4</th>\n",
       "      <td>INC0807253</td>\n",
       "      <td>Delivery pass needs removing on Staff Accounts...</td>\n",
       "      <td>R</td>\n",
       "      <td>Please can the delivery pass be removed from t...</td>\n",
       "    </tr>\n",
       "  </tbody>\n",
       "</table>\n",
       "</div>"
      ],
      "text/plain": [
       "       number                                  short_description Class  \\\n",
       "0  INC0809260                                           Y2684992     P   \n",
       "1  INC0808684                         Delivery offer not working     P   \n",
       "2  INC0808628  Delivery pass needs removing on Staff Accounts...     R   \n",
       "3  INC0807303                                           G7121564     O   \n",
       "4  INC0807253  Delivery pass needs removing on Staff Accounts...     R   \n",
       "\n",
       "                                         description  \n",
       "0  From: Rebecca Connolly <Rebecca.Connolly@nbrow...  \n",
       "1                                                NaN  \n",
       "2  Please can you remove the delivery pass be rem...  \n",
       "3  please set (ACUSTRSS ) to 1 so account holder ...  \n",
       "4  Please can the delivery pass be removed from t...  "
      ]
     },
     "execution_count": 3,
     "metadata": {},
     "output_type": "execute_result"
    }
   ],
   "source": [
    "\n",
    "df = pd.read_csv('P&P training-utf8.csv',encoding=\"utf-8\")\n",
    "\n",
    "print(len(df))\n",
    "df.head()\n"
   ]
  },
  {
   "cell_type": "code",
   "execution_count": 4,
   "metadata": {},
   "outputs": [],
   "source": [
    "# REMOVE NaN VALUES AND EMPTY STRINGS:\n",
    "df.dropna(inplace=True)\n",
    "\n",
    "blanks = []  # start with an empty list`\n",
    "\n",
    "for i,n,sd,c,ds in df.itertuples():  # iterate over the DataFrame\n",
    "    if type(ds)==str:            # avoid NaN values\n",
    "        if ds.isspace():         # test 'review' for whitespace\n",
    "            blanks.append(i)     # add matching index numbers to the list\n"
   ]
  },
  {
   "cell_type": "code",
   "execution_count": 5,
   "metadata": {},
   "outputs": [],
   "source": [
    "df.drop(blanks, inplace=True)"
   ]
  },
  {
   "cell_type": "code",
   "execution_count": 6,
   "metadata": {},
   "outputs": [
    {
     "data": {
      "text/plain": [
       "': rebecca connolly < rebecca.connolly@nbrown.co.uk > \\n sent : 26 2020 01:25 pm \\n : serviceline < serviceline@jdwilliams.co.uk > \\n subject : y2684992 \\n \\n good afternoon , \\n\\n customer charged delivery purchasing subscription . needs activating ? \\n\\n thank advance , \\n\\n rebecca connolly \\n\\n proactive notification team \\n\\n mobile : + 44 ( 0)773 990 2504 \\n reception : + 44 ( 0)161 236 8256 \\n\\n \\n\\n\\n\\n\\n\\n griffin house \\n\\n 40 lever st \\n manchester \\n m60 6es \\n www.nbrown.co.uk \\n\\n \\n\\n \\n\\n n brown 10 uk clothing & footwear digital retailer . key retail brands jd williams , simply , jacamo ambrose wilson . \\n\\n \\n\\n'"
      ]
     },
     "execution_count": 6,
     "metadata": {},
     "output_type": "execute_result"
    }
   ],
   "source": [
    "raw = df['description'][0]\n",
    "ra = raw.lower()\n",
    "txt_tokens = nlp(ra)\n",
    "all_stopwords = nlp.Defaults.stop_words\n",
    "tokens_without_sw= [word.text for word in txt_tokens if not word.text in all_stopwords]\n",
    "stri = ' '.join(tokens_without_sw)\n",
    "stri"
   ]
  },
  {
   "cell_type": "code",
   "execution_count": 9,
   "metadata": {},
   "outputs": [
    {
     "data": {
      "text/plain": [
       "253"
      ]
     },
     "execution_count": 9,
     "metadata": {},
     "output_type": "execute_result"
    }
   ],
   "source": [
    "cleaned_df = pd.DataFrame()\n",
    "for i,n,sd,c,ds in df.itertuples():\n",
    " #   print(i, n, sd, c, ds)   \n",
    "    sd = sd.lower()\n",
    "    cleaned_df = cleaned_df.append({'inc_num': n, 'short_des': sd, 'class': c, 'desc': reg_func(clean_desc(ds))}, ignore_index=True)\n",
    "len(cleaned_df)    "
   ]
  },
  {
   "cell_type": "code",
   "execution_count": 7,
   "metadata": {
    "scrolled": true
   },
   "outputs": [],
   "source": [
    "\n",
    "def clean_desc(data):\n",
    "#     import email\n",
    "    \n",
    "#     msg = email.message_from_string(abc)\n",
    "\n",
    "#     for part in msg.walk():\n",
    "#         # each part is a either non-multipart, or another multipart message\n",
    "#         # that contains further parts... Message is organized like a tree\n",
    "#         if part.get_content_type() == 'text/plain':\n",
    "\n",
    "#             body = part.get_payload(decode=False)\n",
    "\n",
    "    ##################################\n",
    "    from spacy.matcher import PhraseMatcher\n",
    "    matcher = PhraseMatcher(nlp.vocab)\n",
    "    phrase_list = ['Griffin House', '40 Lever St', 'M60 6ES','Sent:','To:','Subject:','From:']\n",
    "    phrase_patterns = [nlp(text) for text in phrase_list]\n",
    "    matcher.add('To:',None,*phrase_patterns) \n",
    "    unwanted = []\n",
    "\n",
    "    \n",
    "    doc2 = nlp(data)\n",
    "    sents = [sent for sent in doc2.sents]\n",
    "\n",
    "    for x in sents:\n",
    "        \n",
    "         matches = matcher(nlp(str(x)))\n",
    "         if len(matches) > 0:\n",
    "            unwanted.append(x)\n",
    "        \n",
    "    sents =[ele for ele in sents if ele not in unwanted]\n",
    "    \n",
    "    return sents\n",
    "\n",
    "\n"
   ]
  },
  {
   "cell_type": "code",
   "execution_count": 8,
   "metadata": {},
   "outputs": [],
   "source": [
    "###################################################\n",
    "def reg_func(sents):\n",
    "    import re\n",
    "    txt_patterns = r'\\d{3} \\d{3} \\d{4}|\\d{3}-\\d{3}-\\d{4}|\\d{11}|\\d{10}'\n",
    "\n",
    "    exclude = []\n",
    "    found_flag = False\n",
    "    for txt in sents:\n",
    "        matches_txt = re.findall(txt_patterns,str(txt))\n",
    "        #print(f'first entry into sents, value of flag = {found_flag}', len(matches_txt))\n",
    "        if len(matches_txt) > 0 or found_flag == True:\n",
    "            found_flag = True\n",
    "            exclude.append(txt)\n",
    "    \n",
    "    sents =[ele for ele in sents if ele not in exclude]\n",
    "    list_of_strings  = [i.text for i in sents]\n",
    "    Penul_desc = ''.join(list_of_strings)\n",
    "    \n",
    "#     txt_tokens = nlp(Penul_desc)\n",
    "#     tokens_without_sw= [word.text for word in txt_tokens if not word.text in all_stopwords]\n",
    "#     Final_desc = ' '.join(tokens_without_sw)\n",
    "    \n",
    "#     Final_desc = Final_desc.lower()\n",
    "    Penul_desc = Penul_desc.lower()\n",
    "    return Penul_desc"
   ]
  },
  {
   "cell_type": "code",
   "execution_count": 42,
   "metadata": {},
   "outputs": [],
   "source": [
    "def remove_sw(Penul_desc):\n",
    "    txt_tokens = nlp(Penul_desc)\n",
    "    tokens_without_sw= [word.text for word in txt_tokens if not word.text in all_stopwords]\n",
    "    Final_desc = ' '.join(tokens_without_sw)"
   ]
  },
  {
   "cell_type": "code",
   "execution_count": 10,
   "metadata": {},
   "outputs": [
    {
     "data": {
      "text/plain": [
       "'good afternoon,\\n\\nthis customer is being charged for delivery after purchasing the subscription.please can you see if it needs activating?\\n\\nthank you in advance,\\n\\nrebecca connolly\\n\\nproactive notification team\\n\\n'"
      ]
     },
     "execution_count": 10,
     "metadata": {},
     "output_type": "execute_result"
    }
   ],
   "source": [
    "cleaned_df['desc'][0]"
   ]
  },
  {
   "cell_type": "code",
   "execution_count": 11,
   "metadata": {},
   "outputs": [],
   "source": [
    "cleaned_df.to_csv(r'Cleaned-P&P data.csv', index = False)"
   ]
  },
  {
   "cell_type": "code",
   "execution_count": null,
   "metadata": {},
   "outputs": [],
   "source": []
  }
 ],
 "metadata": {
  "kernelspec": {
   "display_name": "Python 3 (ipykernel)",
   "language": "python",
   "name": "python3"
  },
  "language_info": {
   "codemirror_mode": {
    "name": "ipython",
    "version": 3
   },
   "file_extension": ".py",
   "mimetype": "text/x-python",
   "name": "python",
   "nbconvert_exporter": "python",
   "pygments_lexer": "ipython3",
   "version": "3.7.6"
  }
 },
 "nbformat": 4,
 "nbformat_minor": 4
}
