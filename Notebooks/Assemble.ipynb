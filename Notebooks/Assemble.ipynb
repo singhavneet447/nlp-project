{
 "cells": [
  {
   "cell_type": "code",
   "execution_count": 1,
   "metadata": {},
   "outputs": [],
   "source": [
    "import spacy\n",
    "nlp = spacy.load('en_core_web_lg')\n",
    "\n",
    "import numpy as np\n",
    "import pandas as pd"
   ]
  },
  {
   "cell_type": "code",
   "execution_count": 2,
   "metadata": {},
   "outputs": [],
   "source": [
    "from sklearn.feature_extraction.text import TfidfVectorizer\n",
    "from sklearn.calibration import CalibratedClassifierCV\n",
    "from sklearn.svm import LinearSVC\n",
    "from sklearn.decomposition import TruncatedSVD\n",
    "from sklearn.svm import OneClassSVM\n",
    "svm = LinearSVC()"
   ]
  },
  {
   "cell_type": "code",
   "execution_count": 3,
   "metadata": {},
   "outputs": [],
   "source": [
    "import re\n",
    "dpf = pd.read_csv('Del-Pass.csv')\n",
    "\n",
    "keys_list = dpf['kpattern'].tolist()\n",
    "regex = re.compile(r'(' + '|'.join(keys_list) + r')') \n",
    "\n",
    "cus_list = ['remove','removed','cancelled', 'cancel' ,'deleted']\n",
    "regey = re.compile(r'(' + '|'.join(cus_list) + r')') \n",
    "\n",
    "import nltk\n",
    "from nltk.corpus import stopwords\n",
    "stopwords = nltk.corpus.stopwords.words('english')\n",
    "additional =[\"thank you\",\"please\",\"hello\",\"hi\",\"advise\",\"hin't\",\"st\",\"nd\",\"rd\",\"th\",\"thank\"]\n",
    "stopwords = stopwords + additional\n",
    "remov=[]\n",
    "for ele in stopwords:\n",
    "    matches = re.findall(\"n't\",ele)\n",
    "    matches2 = re.findall(\"'nt\",ele)\n",
    "    if len(matches)>0 or len(matches2)>0:\n",
    "        remov.append(ele)\n",
    "stopwords = [word for word in stopwords if word not in remov]\n",
    "bel_class = \"Doesn't belongs to a set of classified problems\""
   ]
  },
  {
   "cell_type": "code",
   "execution_count": 4,
   "metadata": {},
   "outputs": [],
   "source": [
    "#segment_featurizer = SegmentFeaturizer()  # more on this below\n",
    "from sklearn.base import BaseEstimator, TransformerMixin\n",
    "class CustomLinguisticFeatureTransformer(BaseEstimator, TransformerMixin):\n",
    "    def __init__(self):\n",
    "        pass   \n",
    "  #  def fit(self, X, y=None):\n",
    "    def fit(self, X, y):\n",
    "        return self    \n",
    "    def transform(self, X):       \n",
    "        ref_corpus=[]\n",
    "        for text in X:           \n",
    "            trans = regex.sub(lambda m: m.group().replace(m.group(),\"delpass \"),text)\n",
    "            trans_ref = regey.sub(lambda n: n.group().replace(n.group(),\"delete \"),trans)\n",
    "             \n",
    "            ref_corpus.append(trans_ref)   \n",
    "        return ref_corpus\n"
   ]
  },
  {
   "cell_type": "code",
   "execution_count": 5,
   "metadata": {},
   "outputs": [],
   "source": [
    "class Lemm(BaseEstimator, TransformerMixin):\n",
    "    def __init__(self):\n",
    "        pass   \n",
    "  #  def fit(self, X, y=None):\n",
    "    def fit(self, X, y):\n",
    "        return self    \n",
    "    def transform(self, X):       \n",
    "        lemmatized_list=[]\n",
    "        for snt in X:\n",
    "        #    print(snt)\n",
    "            tokens = nlp(snt)\n",
    "        #    for token in tokenized:\n",
    "            filtered_sentence = [w.lemma_ for w in tokens if not w.text in stopwords]\n",
    "        #                 lemm = token.lemma_ for token.text in token\n",
    "        #             lemmatized_list.append(lemm)\n",
    "            stri = ' '.join(filtered_sentence)\n",
    "            lemmatized_list.append(stri)\n",
    "        return lemmatized_list"
   ]
  },
  {
   "cell_type": "code",
   "execution_count": 6,
   "metadata": {},
   "outputs": [],
   "source": [
    "\n",
    "class CusttransformFeat(BaseEstimator, TransformerMixin):\n",
    "    def __init__(self):\n",
    "        pass   \n",
    "  #  def fit(self, X, y=None):\n",
    "    def fit(self, X, y):\n",
    "        return self    \n",
    "    def transform(self, X):       \n",
    "        X = np.array(X)\n",
    "        #vectorizer = CountVectorizer(decode_error=\"replace\",vocabulary=pickle.load(open(\"train 1 class tfidf vocab.pkl\", \"rb\")))\n",
    "        vectorizer = TfidfVectorizer(vocabulary=pickle.load(open(\"BigVocabTfidf 1 class.pkl\", \"rb\")))\n",
    "        vec_train = vectorizer.fit_transform(X).toarray()\n",
    "        #pickle.dump(vectorizer.vocabulary_,open(\"BigVocabTfidf 1 class.pkl\",\"wb\"))\n",
    "        #print(vec_train)\n",
    "        return vec_train\n",
    "        "
   ]
  },
  {
   "cell_type": "code",
   "execution_count": 7,
   "metadata": {},
   "outputs": [],
   "source": [
    "class SpacyVectorTransformer(BaseEstimator, TransformerMixin):\n",
    "    def __init__(self, nlp):\n",
    "        self.nlp = nlp\n",
    "        self.dim = 300\n",
    "        pass\n",
    "    def fit(self, X, y):\n",
    "        return self\n",
    "\n",
    "    def transform(self, X):\n",
    "        # Doc.vector defaults to an average of the token vectors.\n",
    "        # https://spacy.io/api/doc#vector\n",
    "        lemmatized_list=[]\n",
    "        for snt in X:\n",
    "        #    print(snt)\n",
    "            tokens = nlp(snt)\n",
    "        #    for token in tokenized:\n",
    "            filtered_sentence = [w.text for w in tokens if not w.text in stopwords]\n",
    "        #                 lemm = token.lemma_ for token.text in token\n",
    "        #             lemmatized_list.append(lemm)\n",
    "            stri = ' '.join(filtered_sentence)\n",
    "            lemmatized_list.append(stri)\n",
    "        return [self.nlp(text).vector for text in lemmatized_list]\n",
    "       "
   ]
  },
  {
   "cell_type": "code",
   "execution_count": 8,
   "metadata": {},
   "outputs": [],
   "source": [
    "import pickle\n",
    "loaded_model = pickle.load(open('OneClassTFIDF_V_0.2.pkl','rb'))\n",
    "from joblib import load\n",
    "loaded_model2 = load(filename = 'P&P Classifier V_0.1.joblib')"
   ]
  },
  {
   "cell_type": "code",
   "execution_count": 27,
   "metadata": {},
   "outputs": [
    {
     "name": "stdout",
     "output_type": "stream",
     "text": [
      "Class Type:  R\n",
      "Confidence score: 99.42157756599144\n"
     ]
    },
    {
     "data": {
      "text/html": [
       "<div>\n",
       "<style scoped>\n",
       "    .dataframe tbody tr th:only-of-type {\n",
       "        vertical-align: middle;\n",
       "    }\n",
       "\n",
       "    .dataframe tbody tr th {\n",
       "        vertical-align: top;\n",
       "    }\n",
       "\n",
       "    .dataframe thead th {\n",
       "        text-align: right;\n",
       "    }\n",
       "</style>\n",
       "<table border=\"1\" class=\"dataframe\">\n",
       "  <thead>\n",
       "    <tr style=\"text-align: right;\">\n",
       "      <th></th>\n",
       "      <th>Inc_Num</th>\n",
       "      <th>Type</th>\n",
       "      <th>Data</th>\n",
       "    </tr>\n",
       "  </thead>\n",
       "  <tbody>\n",
       "    <tr>\n",
       "      <th>0</th>\n",
       "      <td>INC0808628</td>\n",
       "      <td>R</td>\n",
       "      <td></td>\n",
       "    </tr>\n",
       "  </tbody>\n",
       "</table>\n",
       "</div>"
      ],
      "text/plain": [
       "      Inc_Num Type Data\n",
       "0  INC0808628    R     "
      ]
     },
     "execution_count": 27,
     "metadata": {},
     "output_type": "execute_result"
    }
   ],
   "source": [
    "test_df = pd.read_csv('Test_Input.csv')\n",
    "test_df[\"desc\"] = test_df[\"short_des\"] + '. ' + test_df[\"desc\"]\n",
    "txt = test_df['desc'][0]\n",
    "inc_n = pd.Series([test_df['inc_num'][0]])\n",
    "#txt = \"RE: Delivery Subscription issue Absolutely Account number - T7260260 Contact number- 0214080223  Kindly provide the Customer Account number (not other details) Request you to share your contact number or work phone number The customer has a delivery subscription and still being charged postage has happened before and was fixed however it is happening again. Can you assist with this please\"\n",
    "#txt = \"can you remove staff account status and entitlements on this account E7476870 as keith no longer works for oxendales eire\"\n",
    "#txt = \"brian reported of  the customer took a delivery pass on 31st march2019, but it's not applicable right now please check as there is still time fro the subscription to be cancelled\" \n",
    "#txt= \" please remove the delivery pass from attached staff accounts. Customer has been facing issues with his delivery pass and is now fed up from the delivery subscription\"\n",
    "desc = re.sub('\\w\\d{7}', ' ', txt)\n",
    "desc = re.sub('[^a-zA-Z]', ' ', desc)\n",
    "desc = desc.lower()\n",
    "desc = desc.split()\n",
    "desc = ' '.join(desc)\n",
    "lst1 = [desc]\n",
    "y_pr = loaded_model.predict(lst1)\n",
    "#crpt = classification_report(y, y_pred)\n",
    "c_type = []\n",
    "\n",
    "if y_pr == 1:    \n",
    "    c_pr = loaded_model2.predict_proba(lst1)\n",
    "    if c_pr[0][0] < c_pr[0][1]:\n",
    "        if c_pr[0][1] > 0.70:\n",
    "            c_type.append('P')\n",
    "            print(\"Class Type: \", c_type[0])\n",
    "        else:\n",
    "            print(\"Confidence score below threshhold 70%\")\n",
    "            c_type.append('Ambiguous')\n",
    "        print(\"Confidence score:\",c_pr[0][1]*100)\n",
    "    else:\n",
    "        if c_pr[0][0] > 0.70:\n",
    "            c_type.append('R')\n",
    "            print(\"Class Type: \", c_type[0])            \n",
    "        else:\n",
    "            print(\"Confidence score below threshhold 70%\")\n",
    "            c_type.append('Ambiguous')\n",
    "        print(\"Confidence score:\",c_pr[0][0]*100)\n",
    "else:\n",
    "    print(bel_class)\n",
    "    c_type.append('None')\n",
    "#####\n",
    "inc_data = re.findall(r'\\w\\d{7}',txt)\n",
    "inc_data = [', '.join(inc_data)]\n",
    "tdf_resp = pd.DataFrame({\"Inc_Num\": inc_n,\"Type\": c_type, \"Data\": inc_data })\n",
    "###\n",
    "tdf_resp.to_csv(\"Test_Input_Resp.csv\", index=False)\n",
    "tdf_resp"
   ]
  },
  {
   "cell_type": "code",
   "execution_count": 28,
   "metadata": {},
   "outputs": [
    {
     "data": {
      "text/html": [
       "<div>\n",
       "<style scoped>\n",
       "    .dataframe tbody tr th:only-of-type {\n",
       "        vertical-align: middle;\n",
       "    }\n",
       "\n",
       "    .dataframe tbody tr th {\n",
       "        vertical-align: top;\n",
       "    }\n",
       "\n",
       "    .dataframe thead th {\n",
       "        text-align: right;\n",
       "    }\n",
       "</style>\n",
       "<table border=\"1\" class=\"dataframe\">\n",
       "  <thead>\n",
       "    <tr style=\"text-align: right;\">\n",
       "      <th></th>\n",
       "      <th>Inc_Num</th>\n",
       "      <th>Type</th>\n",
       "      <th>Data</th>\n",
       "    </tr>\n",
       "  </thead>\n",
       "  <tbody>\n",
       "    <tr>\n",
       "      <th>0</th>\n",
       "      <td>INC0808628</td>\n",
       "      <td>R</td>\n",
       "      <td>L0000771, I3835323, D8994240, H5364365, H49458...</td>\n",
       "    </tr>\n",
       "  </tbody>\n",
       "</table>\n",
       "</div>"
      ],
      "text/plain": [
       "      Inc_Num Type                                               Data\n",
       "0  INC0808628    R  L0000771, I3835323, D8994240, H5364365, H49458..."
      ]
     },
     "execution_count": 28,
     "metadata": {},
     "output_type": "execute_result"
    }
   ],
   "source": [
    "list_cust = []\n",
    "if c_type[0] == 'R':\n",
    "    if inc_data[0] == '':\n",
    "        cust_df = pd.concat(pd.read_excel('Cust Numbers.xlsx', sheet_name=None,header = None), ignore_index=True)\n",
    "        cust_df['ColumnA'] = cust_df[cust_df.columns[0:]].apply(lambda x: ' '.join(x.dropna().astype(str)),axis=1)\n",
    "        for text_data in cust_df['ColumnA']:\n",
    "            find_cust = re.findall(r'\\w\\d{7}',text_data)\n",
    "            list_cust.append(str(find_cust[0]))\n",
    "        list_cust = [', '.join(list_cust)]   \n",
    "        tdf_resp = pd.DataFrame({\"Inc_Num\": inc_n,\"Type\": c_type, \"Data\": list_cust })\n",
    "        tdf_resp.to_csv(\"Test_Input_Resp.csv\", index=False)\n",
    "        import os\n",
    "        os.remove(\"Cust Numbers.xlsx\") \n",
    "tdf_resp  "
   ]
  },
  {
   "cell_type": "code",
   "execution_count": null,
   "metadata": {},
   "outputs": [],
   "source": []
  }
 ],
 "metadata": {
  "kernelspec": {
   "display_name": "Python 3",
   "language": "python",
   "name": "python3"
  },
  "language_info": {
   "codemirror_mode": {
    "name": "ipython",
    "version": 3
   },
   "file_extension": ".py",
   "mimetype": "text/x-python",
   "name": "python",
   "nbconvert_exporter": "python",
   "pygments_lexer": "ipython3",
   "version": "3.7.7"
  }
 },
 "nbformat": 4,
 "nbformat_minor": 4
}
