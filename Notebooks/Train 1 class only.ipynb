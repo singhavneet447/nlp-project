{
 "cells": [
  {
   "cell_type": "code",
   "execution_count": 1,
   "metadata": {},
   "outputs": [],
   "source": [
    "import spacy\n",
    "nlp = spacy.load('en_core_web_lg')\n",
    "\n",
    "import numpy as np\n",
    "import pandas as pd"
   ]
  },
  {
   "cell_type": "code",
   "execution_count": 2,
   "metadata": {},
   "outputs": [],
   "source": [
    "\n",
    "\n",
    "df1 = pd.read_csv('Cleaned-P&P data.csv')\n",
    "\n",
    "blanks = []  # start with an empty list`\n",
    "\n",
    "for i,c,d,inc,sd in df1.itertuples():  # iterate over the DataFrame\n",
    "        if c == 'O' or c=='E':         # test 'review' for whitespace\n",
    "            blanks.append(i)     # add matching index numbers to the list\n",
    "df1.drop(blanks, inplace=True)\n",
    "df1[\"desc\"] = df1[\"short_des\"] + '. ' + df1[\"desc\"]\n",
    "df1.reset_index(drop=True,inplace=True)\n",
    "\n",
    "\n",
    "\n",
    "df2 = pd.read_csv('Cleaned-P&P data.csv')\n",
    "blanks2 = []  # start with an empty list`\n",
    "\n",
    "for i,c,d,inc,sd in df2.itertuples():  # iterate over the DataFrame\n",
    "        if c == 'O' or c=='E':         # test 'review' for whitespace\n",
    "            blanks2.append(i)     # add matching index numbers to the list\n",
    "df2.drop(blanks2, inplace=True)\n",
    "df2.reset_index(drop=True,inplace=True)\n",
    "\n",
    "dataset = pd.concat([df1, df2], ignore_index=True)\n",
    "\n",
    "# Cleaning the texts\n",
    "import re\n",
    "corpus = []\n",
    "all_words = []\n",
    "max_len=0\n",
    "for i in range(0, 490):\n",
    "\n",
    "    review = re.sub('\\w\\d{7}', ' ', dataset['desc'][i])\n",
    "    review = re.sub('[^a-zA-Z]', ' ', review)\n",
    "    review = review.lower()\n",
    "    review = review.split()\n",
    "    review = ' '.join(review)\n",
    "    \n",
    "    review = nlp(review)\n",
    "    review = [word.text for word in review]\n",
    "   # for word.text in review:\n",
    "        \n",
    "    all_words.append(review) \n",
    "    if len(review) > max_len:\n",
    "        max_len = len(review)\n",
    "    ds = ' '.join(review)\n",
    "#    for word2vec we want an array of vectors\n",
    "    corpus.append(ds)\n",
    "    "
   ]
  },
  {
   "cell_type": "code",
   "execution_count": 3,
   "metadata": {},
   "outputs": [
    {
     "data": {
      "text/plain": [
       "490"
      ]
     },
     "execution_count": 3,
     "metadata": {},
     "output_type": "execute_result"
    }
   ],
   "source": [
    "len(dataset)"
   ]
  },
  {
   "cell_type": "markdown",
   "metadata": {},
   "source": [
    "### Standardise key terms in data"
   ]
  },
  {
   "cell_type": "code",
   "execution_count": 4,
   "metadata": {},
   "outputs": [],
   "source": [
    "dpf = pd.read_csv('Del-Pass.csv')\n",
    "\n",
    "\n",
    "\n",
    "dpf['kpattern']\n",
    "\n",
    "keys_list = dpf['kpattern'].tolist()\n",
    "regex = re.compile(r'(' + '|'.join(keys_list) + r')') \n",
    "\n",
    "cus_list = ['remove','removed','cancelled', 'cancel' ,'deleted']\n",
    "regey = re.compile(r'(' + '|'.join(cus_list) + r')') \n",
    "\n",
    "import nltk\n",
    "from nltk.corpus import stopwords\n",
    "stopwords=nltk.corpus.stopwords.words('english')\n",
    "additional =[\"thank you\",\"please\",\"hello\",\"hi\",\"advise\",\"hin't\",\"st\",\"nd\",\"rd\",\"th\",\"thank\",\"pnt\",\"work request\",\"good morning\",\"good afternoon\",\"short description\",\"jd williams\",\"nbrown\"]\n",
    "stopwords = stopwords + additional\n",
    "remov=[]\n",
    "for ele in stopwords:\n",
    "    matches = re.findall(\"n't\",ele)\n",
    "    matches2 = re.findall(\"'nt\",ele)\n",
    "    if len(matches)>0 or len(matches2)>0:\n",
    "        remov.append(ele)\n",
    "stopwords = [word for word in stopwords if word not in remov]\n",
    "\n",
    "\n"
   ]
  },
  {
   "cell_type": "code",
   "execution_count": 5,
   "metadata": {},
   "outputs": [
    {
     "name": "stderr",
     "output_type": "stream",
     "text": [
      "Using TensorFlow backend.\n"
     ]
    }
   ],
   "source": [
    "cldict = {'P':1 , 'R':1, 'O':-1,'E':-1}\n",
    "dataset['Class Label'] = dataset['class'].map(cldict)\n",
    "label_series = pd.Series(dataset['Class Label'])\n",
    "\n",
    "from keras.utils import to_categorical\n",
    "\n",
    "class_label = np.array(label_series)\n",
    "y = class_label\n",
    "y.shape\n",
    "\n",
    "X = corpus\n",
    "\n"
   ]
  },
  {
   "cell_type": "code",
   "execution_count": 6,
   "metadata": {},
   "outputs": [],
   "source": [
    "from sklearn.model_selection import train_test_split\n",
    "\n",
    "\n",
    "X_train, X_test, y_train, y_test = train_test_split(X, y, test_size=0.20, random_state=47)"
   ]
  },
  {
   "cell_type": "markdown",
   "metadata": {},
   "source": [
    "### Create custom rules"
   ]
  },
  {
   "cell_type": "code",
   "execution_count": 7,
   "metadata": {},
   "outputs": [],
   "source": [
    "from sklearn.base import BaseEstimator, TransformerMixin\n",
    "class SpacyVectorTransformer(BaseEstimator, TransformerMixin):\n",
    "    def __init__(self, nlp):\n",
    "        self.nlp = nlp\n",
    "        self.dim = 300\n",
    "        pass\n",
    "    def fit(self, X, y):\n",
    "        return self\n",
    "\n",
    "    def transform(self, X):\n",
    "        # Doc.vector defaults to an average of the token vectors.\n",
    "        # https://spacy.io/api/doc#vector\n",
    "        lemmatized_list=[]\n",
    "        for snt in X:\n",
    "        #    print(snt)\n",
    "            tokens = nlp(snt)\n",
    "        #    for token in tokenized:\n",
    "            filtered_sentence = [w.lemma_ for w in tokens if not w.text in stopwords]\n",
    "        #                 lemm = token.lemma_ for token.text in token\n",
    "        #             lemmatized_list.append(lemm)\n",
    "            stri = ' '.join(filtered_sentence)\n",
    "            lemmatized_list.append(stri)\n",
    "        return [self.nlp(text).vector for text in lemmatized_list]"
   ]
  },
  {
   "cell_type": "code",
   "execution_count": 8,
   "metadata": {},
   "outputs": [],
   "source": [
    "class Lemm(BaseEstimator, TransformerMixin):\n",
    "    def __init__(self):\n",
    "        pass   \n",
    "  #  def fit(self, X, y=None):\n",
    "    def fit(self, X, y):\n",
    "        return self    \n",
    "    def transform(self, X):       \n",
    "        lemmatized_list=[]\n",
    "        for snt in X:\n",
    "        #    print(snt)\n",
    "            tokens = nlp(snt)\n",
    "        #    for token in tokenized:\n",
    "            filtered_sentence = [w.lemma_ for w in tokens if not w.text in stopwords]\n",
    "        #                 lemm = token.lemma_ for token.text in token\n",
    "        #             lemmatized_list.append(lemm)\n",
    "            stri = ' '.join(filtered_sentence)\n",
    "            lemmatized_list.append(stri)\n",
    "        return lemmatized_list"
   ]
  },
  {
   "cell_type": "code",
   "execution_count": 9,
   "metadata": {},
   "outputs": [],
   "source": [
    "#segment_featurizer = SegmentFeaturizer()  # more on this below\n",
    "class CustomLinguisticFeatureTransformer(BaseEstimator, TransformerMixin):\n",
    "    def __init__(self):\n",
    "        pass   \n",
    "  #  def fit(self, X, y=None):\n",
    "    def fit(self, X, y):\n",
    "        return self    \n",
    "    def transform(self, X):       \n",
    "        ref_corpus=[]\n",
    "        for text in X:           \n",
    "            trans = regex.sub(lambda m: m.group().replace(m.group(),\"delpass \"),text)\n",
    "            trans_ref = regey.sub(lambda n: n.group().replace(n.group(),\"delete \"),trans)\n",
    "             \n",
    "            ref_corpus.append(trans_ref)   \n",
    "        return ref_corpus\n"
   ]
  },
  {
   "cell_type": "code",
   "execution_count": 10,
   "metadata": {},
   "outputs": [],
   "source": [
    "\n",
    "class CusttransformFeat(BaseEstimator, TransformerMixin):\n",
    "    def __init__(self):\n",
    "        pass   \n",
    "  #  def fit(self, X, y=None):\n",
    "    def fit(self, X, y):\n",
    "        return self    \n",
    "    def transform(self, X):       \n",
    "        X = np.array(X)\n",
    "        #vectorizer = CountVectorizer(decode_error=\"replace\",vocabulary=pickle.load(open(\"train 1 class tfidf vocab.pkl\", \"rb\")))\n",
    "        vectorizer = TfidfVectorizer(vocabulary=pickle.load(open(\"BigVocabTfidf 1 class.pkl\", \"rb\")))\n",
    "        vec_train = vectorizer.fit_transform(X).toarray()\n",
    "        #pickle.dump(vectorizer.vocabulary_,open(\"BigVocabTfidf 1 class.pkl\",\"wb\"))\n",
    "        #print(vec_train)\n",
    "        return vec_train\n",
    "        "
   ]
  },
  {
   "cell_type": "code",
   "execution_count": 11,
   "metadata": {},
   "outputs": [
    {
     "data": {
      "text/plain": [
       "Pipeline(memory=None,\n",
       "     steps=[('cust', CustomLinguisticFeatureTransformer()), ('lemm', Lemm()), ('tftra', CusttransformFeat()), ('classifier', OneClassSVM(cache_size=200, coef0=0.0, degree=3, gamma=0.1, kernel='rbf',\n",
       "      max_iter=-1, nu=0.1, random_state=None, shrinking=True, tol=0.001,\n",
       "      verbose=False))])"
      ]
     },
     "execution_count": 11,
     "metadata": {},
     "output_type": "execute_result"
    }
   ],
   "source": [
    "from sklearn.feature_extraction.text import TfidfVectorizer\n",
    "\n",
    "from sklearn.svm import OneClassSVM\n",
    "from sklearn.pipeline import Pipeline\n",
    "from sklearn.decomposition import TruncatedSVD\n",
    "from sklearn.feature_extraction.text import CountVectorizer  \n",
    "import pickle\n",
    "from sklearn.preprocessing import Normalizer\n",
    "#from sklearn.feature_extraction.text import HashingVectorizer\n",
    "#vectorizer = HashingVectorizer(n_features=20)\n",
    "embeddings_pipeline4 = Pipeline(\n",
    "    steps=[\n",
    "        (\"cust\",CustomLinguisticFeatureTransformer()),\n",
    "        (\"lemm\", Lemm()),\n",
    "        \n",
    "#        (\"Hash\", HashingVectorizer(n_features=644)),\n",
    "        (\"tftra\", CusttransformFeat()),\n",
    "#        (\"mean_embeddings\", SpacyVectorTransformer(nlp)),\n",
    "#         (\"reduce_dim\", TruncatedSVD(200)),\n",
    "#         (\"dict_vect\", DictVectorizer()),\n",
    "        (\"classifier\", OneClassSVM(gamma=0.1,kernel='rbf', nu=0.1)),\n",
    "    ]\n",
    ")\n",
    "embeddings_pipeline4.fit(X, y)"
   ]
  },
  {
   "cell_type": "code",
   "execution_count": 12,
   "metadata": {},
   "outputs": [],
   "source": [
    "from sklearn.feature_extraction.text import TfidfTransformer\n",
    "lst1=['delivery pass purchased on staff accounts needs removing please attached spreadsheet with the updated list of accounts thank you']\n",
    "transformer = TfidfTransformer()\n",
    "loaded_vec = CountVectorizer(decode_error=\"replace\",vocabulary=pickle.load(open(\"train 1 class tfidf vocab.pkl\", \"rb\")))\n",
    "tfidf = transformer.fit_transform(loaded_vec.fit_transform(np.array(lst1))).toarray()"
   ]
  },
  {
   "cell_type": "code",
   "execution_count": 13,
   "metadata": {},
   "outputs": [
    {
     "name": "stdout",
     "output_type": "stream",
     "text": [
      "              precision    recall  f1-score   support\n",
      "\n",
      "          -1       0.00      0.00      0.00         0\n",
      "           1       1.00      0.89      0.94       490\n",
      "\n",
      "   micro avg       0.89      0.89      0.89       490\n",
      "   macro avg       0.50      0.44      0.47       490\n",
      "weighted avg       1.00      0.89      0.94       490\n",
      "\n"
     ]
    },
    {
     "name": "stderr",
     "output_type": "stream",
     "text": [
      "C:\\Users\\AVNEET\\miniconda3\\envs\\nlp_course\\lib\\site-packages\\sklearn\\metrics\\classification.py:1145: UndefinedMetricWarning: Recall and F-score are ill-defined and being set to 0.0 in labels with no true samples.\n",
      "  'recall', 'true', average, warn_for)\n"
     ]
    }
   ],
   "source": [
    "from sklearn.metrics import classification_report\n",
    "y_pred = embeddings_pipeline4.predict(X)\n",
    "cr = classification_report(y, y_pred)\n",
    "print(cr)"
   ]
  },
  {
   "cell_type": "code",
   "execution_count": 14,
   "metadata": {},
   "outputs": [
    {
     "data": {
      "text/plain": [
       "array([[  0,   0],\n",
       "       [ 54, 436]], dtype=int64)"
      ]
     },
     "execution_count": 14,
     "metadata": {},
     "output_type": "execute_result"
    }
   ],
   "source": [
    "\n",
    "from sklearn.metrics import confusion_matrix,accuracy_score\n",
    "confusion_matrix(y,y_pred)"
   ]
  },
  {
   "cell_type": "code",
   "execution_count": 24,
   "metadata": {},
   "outputs": [
    {
     "data": {
      "text/plain": [
       "0.889795918367347"
      ]
     },
     "execution_count": 24,
     "metadata": {},
     "output_type": "execute_result"
    }
   ],
   "source": [
    "accuracy_score(y,y_pred)"
   ]
  },
  {
   "cell_type": "code",
   "execution_count": 15,
   "metadata": {},
   "outputs": [
    {
     "data": {
      "text/plain": [
       "array([1], dtype=int64)"
      ]
     },
     "execution_count": 15,
     "metadata": {},
     "output_type": "execute_result"
    }
   ],
   "source": [
    "lst1=['this customer is being charged for delivery after purchasing the subscription please can you see if it needs activating']\n",
    "lst2 = np.array(lst1)\n",
    "# lst3 = np.append(trainx, lst2)\n",
    "y_pr = embeddings_pipeline4.predict(lst1)\n",
    "y_pr"
   ]
  },
  {
   "cell_type": "code",
   "execution_count": 16,
   "metadata": {},
   "outputs": [],
   "source": [
    "ind = []\n",
    "for i in range(0,392):\n",
    "    if y_train[i] == -1:\n",
    "  #      y_train.pop[i]\n",
    "         ind.append(i)\n",
    "X_tran = np.array(X_train)\n",
    "trainy = np.delete(y_train, ind)\n",
    "trainx = np.delete(X_tran, ind)\n",
    "\n",
    "trainx=list(trainx)"
   ]
  },
  {
   "cell_type": "code",
   "execution_count": 17,
   "metadata": {
    "collapsed": true
   },
   "outputs": [
    {
     "name": "stdout",
     "output_type": "stream",
     "text": [
      "good afternoon this customer is being charged for delivery after purchasing the subscription please can you see if it needs activating thank you in advance rebecca connolly proactive notification team *** -1\n",
      "good afternoon i have a query from a customer regarding their delivery subscription as they are still being charged for delivery please can you check as to whether it needs activating thank you in advance rebecca connolly proactive notification team *** -1\n",
      "customer charged for next day delivery ashley reported that the customer has a delivery subscription purchased for which she has free delivery on the next day deliveries for the orders but while placing orders she is still charged for next day delivery or even the standard delivery please check orderno customerno website fashion world contact *** -1\n",
      "hi the above customer can not add the delivery subscription to her account i have looked at the account today to remove any delivery subscription and currently there is none previously in june we have requested that this is activated and it has not been please can you look into this and advise me further regards lesley lesley veevers global customer care *** -1\n",
      "free delivery promo code not applicable short description free delivery promo code not applicable errormessage na affected people diagnosis application session restarted before raising incidents customer bought a free delivery promo code on th july to make the delivery charges free of cost but the delivery charges are still applicable kindly assist contact number customer number website jdwilliams promo code rv promo code buy date th of july *** -1\n",
      "delievry pass is not getting applied sefali called and reported that a customer added delivery pass offer on th nov which is valid for year but he is still getting charged for delivery on any order kindly assist customer no customer name julian bell robert website jacamo contactno manager s *** -1\n",
      "customer not getting free p p customer number bought the free p p delivery subscription and should receive free delivery on acus it doesn t look like the customer is receiving free delivery although the row is on t dlvy chrg promo please can you correct on acus to give the customer free delivery thanjs *** -1\n",
      "delivery pass cancellation please can the delivery subscription service be removed thanks *** -1\n",
      "annual delivery pass not working please can you reactivate annual delivery pass on customersaccount thank you *** -1\n",
      "being charged for shipping wrongly issue selina reported that one of the customer is being charged for shipping even after he has opted for free shipping for a year in the beginning of june please assist in the issue error n a ext customer number customer name allen heeps opted pass for a year for pounds *** -1\n",
      "customer unable to apply delivery pass please can you apply the annual delivery pass on the attached customers account thank you *** -1\n",
      "keith ingle carainn keith ingle hi guys can you remove staff account status and entitlements on this account as keith is no longer works for oxendales eire kind regards amanda doyle team manager ext oxendales co ltd *** -1\n",
      "mrs jacqueline ralston gary levine gary levine teleperformance com catherine mccusker teleperformance comhi customer has paid for the following jul rv cm delivery sub of cc customer is now incurring delivery charge of per order when it should be free how can we reinstate the offer of free unlimited next day delivery thank you gary levine jd williams blended service *** -1\n",
      "priority delivery pass needs removing on staff accounts orders supra dba req delivery pass purchased on staff accounts needs removing please attached spreadsheet with the updated list of accounts thank you *** -1\n",
      "good afternoon this customer is being charged for delivery after purchasing the subscription please can you see if it needs activating thank you in advance rebecca connolly proactive notification team *** -1\n",
      "short description tamara called in to report that the customer purchase the delivery subscription on the st of marchbut she is still charged for delivery every time instead of having a delivery subscription affected people *** -1\n",
      "hi please can the delivery passes be removed from the following staff accounts as there are not eligible for this product thanks anita anita coles proactive notification team reception manchester www nbrown co uk n brown is a top uk clothing footwear digital retailer our key retail brands are jd williams simply be jacamo and ambrose wilson *** -1\n",
      "please can the delivery pass be removed form the attached staff accounts thanks *** -1\n",
      "jenna called and reported that a mainframe based customer purchased a delivery subscription for year but it still charging the delivery amount on the order customerno website jdwilliams amount delivery subscription purchase date th dec contactno *** -1\n",
      "short description delivery subscription purchased but was pound pens for standard delivery charge she wants to get it activated the account is in mainframe affected people contact number with country code customer number website simply be verified email address in case of password issue kimmentha hotmail com *** -1\n",
      "please can the delivery pass be removed from this staff account please acc number *** -1\n",
      "the customer keeps being charged for delivery even though she took out the del sub on please rectify thanks peter *** -1\n",
      "sashnee reported that a customer is getting charged for delivery after purchasing the delivery subscription customerno website jdwilliams amount for an year purchase date rd nov *** -1\n",
      "good afternoon i have a query from a customer regarding their delivery subscription as they are still being charged for delivery please can you check as to whether it needs activating thank you in advance rebecca connolly proactive notification team *** -1\n",
      "fault jean called in to report that a customer has bought delivery subscription but still being charged for delivery kindly assist purchasing date th july customer number order number browser safari device ipad pro contact *** -1\n",
      "short description lorraine called in to report that the customer bought a delivery pass but still when customer placed an order he is been charged with the delivery charges order no contact number customer i d website simply be date of purchase th sept date of charges flashing on her account th sept validity th sept *** -1\n",
      "please can the delivery pass be removed form the attached staff accounts thanks *** -1\n",
      "issue chris ritchie called in to report that customer had done a subscription on her account months back and unsubscribed itbut still she is getting charged for every month i e pounds item number rv fn customer number contact number website jdwilliams *** -1\n",
      "cc claire wrigley claire wrigley nbrown co uk hi please can you remove the delivery pass from the following staff accounts as they are not eligible to have this product thanks anita coles l proactive notificaiton team team manager claire wrigley *** -1\n",
      "short description simon called in to report that the customer bought a delivery passage for pounds but when she ordered she is not able to use that passage and whatever she is ordering the total amount includes the delivery charges as well which should not be applied once she has the delivery passage error there is no delivery passage option showing on her payment page affected people order no diagnosis simon called in instantly once he analysed the whole scenario contact number customerid website jdwilliams date the customer bought the delivery passage th november placed order on nd nov delivery date rd nov *** -1\n",
      "glen reported that the customer purchased the free delivery pass in th may but she is still being charged pound for the orders kindly assist customerno website jdwilliams contact *** -1\n",
      "fault piara begum called in to report that a customer has re bought a delivery subscription which was bought on th of september but when she is trying to place order it is charging her for he delivery kindly check on it customer number website simply be contact *** -1\n",
      "hi the above customer can not add the delivery subscription to her account i have looked at the account today to remove any delivery subscription and currently there is none previously in june we have requested that this is activated and it has not been please can you look into this and advise me further regards lesley lesley veevers global customer care *** -1\n",
      "customer purchased delivery aubscription rv fm she is still being charged deliver please can you activate delivery subscription thank you *** -1\n",
      "customers number website jd williams issue customer have already paid delivery pass on th august it should month free delivery she placed prder on th august and was charged postage she has refunded her but now ext *** -1\n",
      "sharon reported that one of the customer got a delivery pass for one year on th august but every time she s trying to place an order she s getting charged for it customer number website simplybe *** -1\n",
      "hi could you please check this account customer has paid del supp and is still being charged del on orders please can you check if this has been activated thank you carol *** -1\n",
      "issue shamim called in to report that a customer is being charged for delivery even though he has delivery pass kindly assist customer account number user contact website maristo order number item number wr sv bk sv fk sv order placing date am today *** -1\n",
      "cust keeps getting charged del even though she took out pass on please resolve for cust *** -1\n",
      "please can the delivery pss be removed from the attached staff accounts thanks *** -1\n",
      "please can you ensure the annual delivery pass rv fg ordered is fully active on account customer still being charged for delivery thanks *** -1\n",
      "delivery pass was taken out on but customer is still being charged delivery please rectify pjj *** -1\n",
      "glen edwards called in that he has some subscription issue customer account number customer name bara aummer user contact website ambrose wilson *** -1\n",
      "hi please can you look into the following delivery sub offer for this customer they purchased it and it is not working they had one on the account beforeand it was due to expireso this is the new purchase for the year thank you angela nixon a team manager claire wriggley ext *** -1\n",
      "cc claire wrigley hi all please can you check this customers delivery pass it is on the accountbut she is still being charged shalli remove this and ask the customer to add it again thanks liv oliviaorwa global customer care nbrown www nbrown co uk *** -1\n",
      "cust took out sub on but is still being charged please advise *** -1\n",
      "customer number bought the free p p delivery subscription and should receive free delivery on acus it doesn t look like the customer is receiving free delivery although the row is on t dlvy chrg promo please can you correct on acus to give the customer free delivery thanjs *** -1\n",
      "customer renewed this on but is still being charged delivery please resolve *** -1\n",
      "description mohammed reported that a customer has bought the delivery subscription offer but he is still getting charged for the delivery error message na affected people contact number customer no customer name mr steve kiddy website jacamo *** -1\n",
      "hi the customer number is she s subscribed to the delivery pass however is still continuing to be charged a standard delivery fee please can this be looked into *** -1\n",
      "please can you reactivate annual delivery pass on customersaccount thank you *** -1\n",
      "please can the annual delivery pass be removed from the attatched staff accounts thank you *** -1\n",
      "carainn keith ingle hi guys can you remove staff account status and entitlements on this account as keith is no longer works for oxendales eire kind regards amanda doyle team manager ext oxendales co ltd *** -1\n",
      "delivery pass purchased on staff accounts needs removing please attached spreadsheet with the updated list of accounts thank you *** -1\n"
     ]
    }
   ],
   "source": [
    "for i in range(0,490):\n",
    "    if y[i]!=y_pred[i]:\n",
    "        if(y_pred[i] == -1):\n",
    "            print(X[i],'***',y_pred[i])"
   ]
  },
  {
   "cell_type": "code",
   "execution_count": 19,
   "metadata": {},
   "outputs": [],
   "source": [
    "pickle.dump(embeddings_pipeline4,open(\"OneClassTFIDF_V_0.2.pkl\",\"wb\"))"
   ]
  },
  {
   "cell_type": "code",
   "execution_count": null,
   "metadata": {},
   "outputs": [],
   "source": [
    "for i in range(0,490):\n",
    "    if y[i]== -1:\n",
    "        print(X[i],'****', y[i])"
   ]
  },
  {
   "cell_type": "code",
   "execution_count": 20,
   "metadata": {},
   "outputs": [],
   "source": [
    "## load model\n",
    "\n",
    "\n",
    "loaded_model = pickle.load(open('OneClassTFIDF_V_0.2.pkl','rb'))"
   ]
  },
  {
   "cell_type": "code",
   "execution_count": 21,
   "metadata": {},
   "outputs": [
    {
     "data": {
      "text/plain": [
       "array([-1], dtype=int64)"
      ]
     },
     "execution_count": 21,
     "metadata": {},
     "output_type": "execute_result"
    }
   ],
   "source": [
    "lst1=['q35 job pwani3md rc0012  step02 pwani3md rc0012  step02  restart  rerun  new instructions 08052020 until further notice  purge the rerun and raise an inc assigned  to vineet agarwal e pss']\n",
    "\n",
    "y_pr = loaded_model.predict(lst1)\n",
    "#crpt = classification_report(y, y_pred)\n",
    "y_pr"
   ]
  },
  {
   "cell_type": "code",
   "execution_count": 22,
   "metadata": {},
   "outputs": [
    {
     "data": {
      "text/plain": [
       "['OneClassTFIDF_V_0.3.joblib']"
      ]
     },
     "execution_count": 22,
     "metadata": {},
     "output_type": "execute_result"
    }
   ],
   "source": [
    "from joblib import dump, load\n",
    "dump(embeddings_pipeline4, filename = 'OneClassTFIDF_V_0.3.joblib' )"
   ]
  },
  {
   "cell_type": "code",
   "execution_count": null,
   "metadata": {},
   "outputs": [],
   "source": [
    "print(crpt)"
   ]
  },
  {
   "cell_type": "code",
   "execution_count": null,
   "metadata": {},
   "outputs": [],
   "source": [
    "confusion_matrix(y,y_pred)"
   ]
  },
  {
   "cell_type": "code",
   "execution_count": null,
   "metadata": {},
   "outputs": [],
   "source": []
  },
  {
   "cell_type": "code",
   "execution_count": null,
   "metadata": {},
   "outputs": [],
   "source": []
  },
  {
   "cell_type": "code",
   "execution_count": null,
   "metadata": {},
   "outputs": [],
   "source": []
  }
 ],
 "metadata": {
  "kernelspec": {
   "display_name": "Python 3",
   "language": "python",
   "name": "python3"
  },
  "language_info": {
   "codemirror_mode": {
    "name": "ipython",
    "version": 3
   },
   "file_extension": ".py",
   "mimetype": "text/x-python",
   "name": "python",
   "nbconvert_exporter": "python",
   "pygments_lexer": "ipython3",
   "version": "3.7.7"
  }
 },
 "nbformat": 4,
 "nbformat_minor": 4
}
